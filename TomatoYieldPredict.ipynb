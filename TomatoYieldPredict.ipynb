{
 "cells": [
  {
   "cell_type": "code",
   "execution_count": 1,
   "metadata": {},
   "outputs": [
    {
     "name": "stderr",
     "output_type": "stream",
     "text": [
      "c:\\users\\qqwea1223\\appdata\\local\\programs\\python\\python37\\lib\\site-packages\\tensorflow\\python\\framework\\dtypes.py:526: FutureWarning: Passing (type, 1) or '1type' as a synonym of type is deprecated; in a future version of numpy, it will be understood as (type, (1,)) / '(1,)type'.\n",
      "  _np_qint8 = np.dtype([(\"qint8\", np.int8, 1)])\n",
      "c:\\users\\qqwea1223\\appdata\\local\\programs\\python\\python37\\lib\\site-packages\\tensorflow\\python\\framework\\dtypes.py:527: FutureWarning: Passing (type, 1) or '1type' as a synonym of type is deprecated; in a future version of numpy, it will be understood as (type, (1,)) / '(1,)type'.\n",
      "  _np_quint8 = np.dtype([(\"quint8\", np.uint8, 1)])\n",
      "c:\\users\\qqwea1223\\appdata\\local\\programs\\python\\python37\\lib\\site-packages\\tensorflow\\python\\framework\\dtypes.py:528: FutureWarning: Passing (type, 1) or '1type' as a synonym of type is deprecated; in a future version of numpy, it will be understood as (type, (1,)) / '(1,)type'.\n",
      "  _np_qint16 = np.dtype([(\"qint16\", np.int16, 1)])\n",
      "c:\\users\\qqwea1223\\appdata\\local\\programs\\python\\python37\\lib\\site-packages\\tensorflow\\python\\framework\\dtypes.py:529: FutureWarning: Passing (type, 1) or '1type' as a synonym of type is deprecated; in a future version of numpy, it will be understood as (type, (1,)) / '(1,)type'.\n",
      "  _np_quint16 = np.dtype([(\"quint16\", np.uint16, 1)])\n",
      "c:\\users\\qqwea1223\\appdata\\local\\programs\\python\\python37\\lib\\site-packages\\tensorflow\\python\\framework\\dtypes.py:530: FutureWarning: Passing (type, 1) or '1type' as a synonym of type is deprecated; in a future version of numpy, it will be understood as (type, (1,)) / '(1,)type'.\n",
      "  _np_qint32 = np.dtype([(\"qint32\", np.int32, 1)])\n",
      "c:\\users\\qqwea1223\\appdata\\local\\programs\\python\\python37\\lib\\site-packages\\tensorflow\\python\\framework\\dtypes.py:535: FutureWarning: Passing (type, 1) or '1type' as a synonym of type is deprecated; in a future version of numpy, it will be understood as (type, (1,)) / '(1,)type'.\n",
      "  np_resource = np.dtype([(\"resource\", np.ubyte, 1)])\n",
      "Using TensorFlow backend.\n"
     ]
    }
   ],
   "source": [
    "#import library\n",
    "import numpy as np\n",
    "import pandas as pd\n",
    "from datetime import date\n",
    "from neupy import algorithms\n",
    "import matplotlib.pyplot as plt\n",
    "import tensorflow as tf\n",
    "from tensorflow import keras\n",
    "from tensorflow.keras import layers\n",
    "from sklearn.model_selection import train_test_split\n",
    "from sklearn.metrics import r2_score\n",
    "import keras\n",
    "from keras import regularizers\n",
    "import pyrenn as prn\n",
    "from keras.callbacks import EarlyStopping"
   ]
  },
  {
   "cell_type": "code",
   "execution_count": 142,
   "metadata": {},
   "outputs": [],
   "source": [
    "#constant \n",
    "path = '2016_spring/2016_spring{}.csv'\n",
    "yield_path = '2016_spring/2016_spring.csv'\n",
    "file_parameters = ['CC', 'CV', 'CH', 'ExG']\n",
    "limit_day = 80\n",
    "interval_day = 10"
   ]
  },
  {
   "cell_type": "markdown",
   "metadata": {},
   "source": [
    "# Read files"
   ]
  },
  {
   "cell_type": "markdown",
   "metadata": {},
   "source": [
    "# Functions"
   ]
  },
  {
   "cell_type": "code",
   "execution_count": 185,
   "metadata": {},
   "outputs": [],
   "source": [
    "#count day after planting\n",
    "def countDaysAfterPlanting(date_planting, date_key):\n",
    "#     print(date_planting, date_key)\n",
    "    f_date_array = date_planting.split('-')\n",
    "    f_date = date(int(f_date_array[2]), int(f_date_array[0]), int(f_date_array[1]))\n",
    "    l_date = ''.join(s for s in date_key if s.isdigit())\n",
    "    #print(int('20'+l_date[:2]), int(l_date[2:4]), int(l_date[4:6]))\n",
    "    l_date = date(int('20'+l_date[:2]), int(l_date[2:4]), int(l_date[4:6]))\n",
    "    return(abs((l_date-f_date).days))"
   ]
  },
  {
   "cell_type": "markdown",
   "metadata": {},
   "source": [
    "# Build Models"
   ]
  },
  {
   "cell_type": "code",
   "execution_count": 35,
   "metadata": {},
   "outputs": [],
   "source": [
    "#build model that have 2 hidden layers (64, 64)\n",
    "def buildRegressionModel(model_shape, input_shape, optimizer, loss, metrics, drop_out=None, regularizer_l1=None, regularizer_l2=None, kernel_initializer = 'uniform', drop_out_rate = 0.25):\n",
    "\n",
    "    # Define a Keras sequential model\n",
    "    model = keras.Sequential()\n",
    "    # Define the first dense layer\n",
    "    for (i, size) in enumerate(model_shape):\n",
    "        if i ==0:\n",
    "            model.add(keras.layers.Dense(size, activation='relu', input_shape=[input_shape], kernel_regularizer=regularizer_l2,\n",
    "                        activity_regularizer=regularizer_l1, kernel_initializer=kernel_initializer))\n",
    "            if drop_out:\n",
    "                model.add(keras.layers.Dropout(drop_out_rate))\n",
    "        else:\n",
    "            model.add(keras.layers.Dense(size, activation='relu', kernel_regularizer=regularizer_l2, kernel_initializer=kernel_initializer,\n",
    "                        activity_regularizer=regularizer_l1))\n",
    "            if drop_out:\n",
    "                model.add(keras.layers.Dropout(drop_out_rate))\n",
    "    model.add(keras.layers.Dense(1, kernel_initializer=kernel_initializer))\n",
    "    \n",
    "    #compile model\n",
    "    model.compile(loss=loss, optimizer=optimizer, metrics=metrics)\n",
    "    return model"
   ]
  },
  {
   "cell_type": "code",
   "execution_count": 68,
   "metadata": {},
   "outputs": [],
   "source": [
    "def trainModel(x_data, y_data, input_shape, parameters):    \n",
    "    #Build Hypterparameter\n",
    "    sizes = parameters['sizes'] \n",
    "    shapes = parameters['shapes']\n",
    "    drop_out = parameters['drop_out'] \n",
    "    regularizer_l1 = parameters['regularizer_l1']\n",
    "    regularizer_l2 = parameters['regularizer_l2']\n",
    "    kernel_initializer = parameters['kernel_initializer']\n",
    "    drop_out_rate = parameters['drop_out_rate']\n",
    "    #Compile Hyperparameter\n",
    "    optimizer = parameters['optimizer']\n",
    "    #optimizer = keras.optimizers.RMSprop(0.001)\n",
    "    loss = parameters['loss']\n",
    "    #loss = 'mae'\n",
    "    metrics = parameters['metrics']\n",
    "\n",
    "    #Callback Hyperparameter\n",
    "    monitor = parameters['monitor']\n",
    "    min_delta = parameters['min_delta']\n",
    "    patience = parameters['patience']\n",
    "    mode = parameters['mode']\n",
    "    verbose = parameters['verbose']\n",
    "    restore_best_weights = parameters['restore_best_weights']\n",
    "\n",
    "    #Train Hyperparameter\n",
    "    epochs = parameters['epochs']\n",
    "    validation_split = parameters['validation_split']\n",
    "    \n",
    "    ES = EarlyStopping(monitor=monitor, min_delta=min_delta, patience=patience, mode=mode, \n",
    "                       verbose=verbose, restore_best_weights = restore_best_weights)\n",
    "    \n",
    "    \n",
    "    #Test Train Split\n",
    "    x_train, x_test, y_train, y_test = train_test_split(x_data, y_data, test_size=0.25, random_state = 90)\n",
    "    x_train, x_valid, y_train, y_valid = train_test_split(x_train, y_train, test_size=0.2, random_state = 90)\n",
    "    \n",
    "    history ={}\n",
    "    model = {}\n",
    "    #build and train model\n",
    "    for (i, size) in enumerate(sizes):\n",
    "        model[size] = buildRegressionModel(shapes[i], input_shape, optimizer, loss, metrics, drop_out = drop_out, kernel_initializer = kernel_initializer, \n",
    "                                     regularizer_l1=regularizer_l1, regularizer_l2 =regularizer_l2)\n",
    "        history[size] = model[size].fit(x_train, y_train, epochs=epochs, validation_data=(x_valid, y_valid), \n",
    "                                  callbacks = [ES], verbose = verbose)\n",
    "        \n",
    "        \n",
    "    #plot results\n",
    "    colors = ['red', 'blue', 'green', 'yellow']\n",
    "    plt.figure()\n",
    "    for i, size in enumerate(sizes):\n",
    "        data_history = history[size].history\n",
    "        loss = data_history['loss']\n",
    "        val_loss = data_history['val_loss']\n",
    "        plt.plot(val_loss, color=colors[i], linestyle = '--', label = size + '_val_loss')\n",
    "        plt.plot(loss, color=colors[i], linestyle = ':', label = size +'_loss')\n",
    "    \n",
    "    plt.legend(loc = 'upper left' )\n",
    "    plt.xlabel = 'epochs'\n",
    "    plt.ylabel = 'loss'\n",
    "    \n",
    "    \n",
    "    #Show R2 scores\n",
    "    for i, size in enumerate(sizes):\n",
    "        #train score\n",
    "        pred_train = model[size].predict(x_train)\n",
    "        train_compare = pd.DataFrame({'y_train': y_train.flatten(), 'y_train_pred': pred_train.flatten()})\n",
    "        train_r2_score = r2_score(train_compare.y_train, train_compare.y_train_pred)\n",
    "        print(size + ' train r2 score = ', train_r2_score, '/ 1.0')\n",
    "        \n",
    "        #test score\n",
    "        pred_test = model[size].predict(x_test)\n",
    "        test_compare = pd.DataFrame({'y_test': y_test.flatten(), 'y_test_pred': pred_test.flatten()})\n",
    "        test_r2_score = r2_score(test_compare.y_test, test_compare.y_test_pred)\n",
    "        print(size+' test r2 score = ', test_r2_score, '/ 1.0')"
   ]
  },
  {
   "cell_type": "markdown",
   "metadata": {},
   "source": [
    "# prepare Data"
   ]
  },
  {
   "cell_type": "markdown",
   "metadata": {},
   "source": [
    "# Cotton Yield data"
   ]
  },
  {
   "cell_type": "code",
   "execution_count": 44,
   "metadata": {},
   "outputs": [],
   "source": [
    "def CottonYieldData():\n",
    "    canopy_dataframe = pd.read_excel('X.xlsx')\n",
    "    canopy_dataframe = canopy_dataframe.reindex(np.random.permutation(canopy_dataframe.index))\n",
    "    canopy_dataframe.head()\n",
    "    \n",
    "    x = canopy_dataframe.loc[:, canopy_dataframe.columns != 'target' ].values\n",
    "#     print(x.shape)\n",
    "    \n",
    "    y = canopy_dataframe['target'].values\n",
    "#     print(y.shape)\n",
    "    return (x, y)"
   ]
  },
  {
   "cell_type": "code",
   "execution_count": 45,
   "metadata": {},
   "outputs": [],
   "source": [
    "canopy_dataframe = pd.read_excel('X.xlsx')"
   ]
  },
  {
   "cell_type": "code",
   "execution_count": null,
   "metadata": {},
   "outputs": [],
   "source": []
  },
  {
   "cell_type": "code",
   "execution_count": 81,
   "metadata": {},
   "outputs": [],
   "source": [
    "original_data = []\n",
    "interval_process_data = []\n",
    "yield_data = pd.read_csv(path.format(''))\n",
    "plant_day = yield_data['plantDate']\n",
    "\n",
    "#read data, keep Id and date keys only\n",
    "for i in range(len(file_parameters)):\n",
    "    temp = pd.read_csv(path.format('_'+file_parameters[i]))\n",
    "#     print(column_name for column_name in temp.columns if parameter[i] in column_name)\n",
    "    temp = temp[[x for x in temp.columns if parameters[i] in x and len(x) == len(parameters[i]) + 6]]\n",
    "    original_data.append(temp)"
   ]
  },
  {
   "cell_type": "markdown",
   "metadata": {},
   "source": [
    "# Tomato Yield data"
   ]
  },
  {
   "cell_type": "code",
   "execution_count": 243,
   "metadata": {},
   "outputs": [],
   "source": [
    "temp = 0"
   ]
  },
  {
   "cell_type": "code",
   "execution_count": 268,
   "metadata": {},
   "outputs": [],
   "source": [
    "def GRNN_process(row_data, days_after_planting, x_pred, std):\n",
    "#     print(row_data.shape)\n",
    "#     print(days_after_planting.shape)\n",
    "    if (days_after_planting[0] != 0):\n",
    "        days_after_planting = np.append([0], days_after_planting, axis = 0)\n",
    "        row_data = np.append([0], row_data, axis = 0)\n",
    "    grnn = algorithms.GRNN(std = std)\n",
    "    grnn.train(days_after_planting, row_data)\n",
    "    result = grnn.predict(x_pred)\n",
    "    result = result.swapaxes(0,1)\n",
    "    \n",
    "#     print(result)\n",
    "    return result"
   ]
  },
  {
   "cell_type": "code",
   "execution_count": 275,
   "metadata": {},
   "outputs": [],
   "source": [
    "def tomatoYieldData(parameters):\n",
    "    original_data = []\n",
    "    yield_data = pd.read_csv(path.format(''))\n",
    "    plant_day = yield_data['plantDate']\n",
    "    interval_process_data = np.empty([len(yield_data), 0])\n",
    "    x_pred = range(interval_day, limit_day+1, interval_day)\n",
    "    \n",
    "    #hypter parameter\n",
    "    std = parameters['std']\n",
    "    normalization = parameters['normalization']\n",
    "    \n",
    "    \n",
    "    #read data, keep Id and date keys only\n",
    "    for i in range(len(file_parameters)):\n",
    "        temp = pd.read_csv(path.format('_'+file_parameters[i]))\n",
    "    #     print(column_name for column_name in temp.columns if parameter[i] in column_name)\n",
    "#         print([x for x in temp.columns if file_parameters[i] in x and len(x) == len(file_parameters[i]) + 6])\n",
    "        temp = temp[[x for x in temp.columns if file_parameters[i] in x and len(x) == len(file_parameters[i]) + 6]]\n",
    "        original_data.append(temp)\n",
    "    print(len(original_data))\n",
    "    print(len(file_parameters))\n",
    "    for i in range(len(file_parameters)):\n",
    "        parameter_data = original_data[i]\n",
    "        date_keys = parameter_data.columns\n",
    "        interval_process_parameter_data = np.empty([0, len(x_pred)])\n",
    "        for row in range(len(parameter_data)):           \n",
    "            row_data = parameter_data.loc[row].values\n",
    "            plant_date = plant_day[row]\n",
    "            days_after_planting = np.array([countDaysAfterPlanting(plant_date, date_key) for date_key in date_keys])\n",
    "            mask = (days_after_planting >=0) & (days_after_planting<=limit_day) & (row_data>0)\n",
    "#             print(row_data)\n",
    "            row_data = row_data[mask]\n",
    "#             print(days_after_planting)\n",
    "#             print(mask.shape)\n",
    "            days_after_planting = days_after_planting[mask]\n",
    "            GRNN_data = GRNN_process(row_data, days_after_planting, x_pred, std)\n",
    "            interval_process_parameter_data = np.append(interval_process_parameter_data, GRNN_data, axis = 0)\n",
    "\n",
    "        if normalization:\n",
    "            interval_process_parameter_data /= np.linalg.norm(interval_process_parameter_data)\n",
    "        interval_process_data = np.append(interval_process_data, interval_process_parameter_data, axis = 1)\n",
    "\n",
    "    #Added one hot of plantDate\n",
    "    test_plant_date = pd.DataFrame(yield_data['plantDate'])\n",
    "    test_plant_data_values = np.unique(yield_data['plantDate'].values)\n",
    "    test_plant_date['plantDate'] = test_plant_date['plantDate'].map(lambda x: {date:i for (i, date) in enumerate(test_plant_data_values)}.get(x))\n",
    "    test_plant_date = pd.get_dummies(test_plant_date['plantDate'])\n",
    "    interval_process_data = np.append(interval_process_data, test_plant_date.values)\n",
    "    \n",
    "    x_train = interval_process_data \n",
    "    y_train = yield_data['Yield']\n",
    "    print(y_train.shape)\n",
    "    print(x_train.shape)\n",
    "    return(x_train, y_train)\n",
    "        "
   ]
  },
  {
   "cell_type": "code",
   "execution_count": 276,
   "metadata": {},
   "outputs": [
    {
     "name": "stdout",
     "output_type": "stream",
     "text": [
      "4\n",
      "4\n",
      "(243,)\n",
      "(8505,)\n"
     ]
    }
   ],
   "source": [
    "parameters = {}\n",
    "parameters['std'] = 10\n",
    "parameters['normalization'] = True\n",
    "x_train, y_train = tomatoYieldData(parameters)"
   ]
  },
  {
   "cell_type": "code",
   "execution_count": 258,
   "metadata": {},
   "outputs": [],
   "source": [
    "temp = np.array([[ 3.7066494 ],\n",
    " [13.10620055],\n",
    " [16.06375539],\n",
    " [23.49928035],\n",
    " [30.49732575],\n",
    " [29.8838761 ],\n",
    " [30.07299097],\n",
    " [32.48343194]], dtype = float)"
   ]
  },
  {
   "cell_type": "code",
   "execution_count": 264,
   "metadata": {},
   "outputs": [
    {
     "data": {
      "text/plain": [
       "(1, 8)"
      ]
     },
     "execution_count": 264,
     "metadata": {},
     "output_type": "execute_result"
    }
   ],
   "source": [
    "temp = temp.swapaxes(0,1)\n",
    "temp.shape"
   ]
  },
  {
   "cell_type": "code",
   "execution_count": 267,
   "metadata": {},
   "outputs": [
    {
     "data": {
      "text/plain": [
       "array([[ 3.7066494 , 13.10620055, 16.06375539, 23.49928035, 30.49732575,\n",
       "        29.8838761 , 30.07299097, 32.48343194]])"
      ]
     },
     "execution_count": 267,
     "metadata": {},
     "output_type": "execute_result"
    }
   ],
   "source": [
    "test_temp = np.empty([0,8])\n",
    "test_temp = np.append(test_temp, temp, axis = 0)\n",
    "test_temp"
   ]
  },
  {
   "cell_type": "markdown",
   "metadata": {},
   "source": [
    "# Tomato Yield planting in 2/28/2016 data"
   ]
  },
  {
   "cell_type": "code",
   "execution_count": null,
   "metadata": {},
   "outputs": [],
   "source": []
  },
  {
   "cell_type": "code",
   "execution_count": null,
   "metadata": {},
   "outputs": [],
   "source": [
    "def tomatoDataChooseDate(parameters, date_chosen):\n",
    "    original_data = []\n",
    "    yield_data = pd.read_csv(path.format(''))\n",
    "    plant_day = yield_data['plantDate'].values\n",
    "    yield_mask = plant_day == date_chosen\n",
    "    interval_process_data = np.empty([len(yield_data), 0])\n",
    "    x_pred = range(interval_day, limit_day+1, interval_day)\n",
    "    \n",
    "    #hypter parameter\n",
    "    std = parameters['std']\n",
    "    normalization = parameters['normalization']\n",
    "    \n",
    "    \n",
    "    #read data, keep Id and date keys only\n",
    "    for i in range(len(parameters)):\n",
    "        temp = pd.read_csv(path.format('_'+parameters[i]))\n",
    "    #     print(column_name for column_name in temp.columns if parameter[i] in column_name)\n",
    "        temp = temp[x for x in temp.columns if parameters[i] in x and len(x) == len(parameters[i]) + 6]\n",
    "        temp= temp[yield_mask]\n",
    "        original_data.append(temp)\n",
    "    \n",
    "    for i in range(len(parameters)):\n",
    "        parameter_data = data[i]\n",
    "        date_keys = parameter_data.columns\n",
    "        interval_process_parameter_data = np.empty([0, len(x_pred)])\n",
    "        for row in range(len(parameter_data)):           \n",
    "            row_data = parameter_data.iloc[row:row+1].values\n",
    "            plant_date = plant_day[row]\n",
    "            days_after_planting = [countDaysAfterPlanting(plant_date, date_key) for date_key in date_keys]\n",
    "            mask = days_after_planting >=0 and days_after_planting<=limit_day and row_data>0\n",
    "            row_data = row_data[row_data.columns[mask]]\n",
    "            days_after_planting = days_after_planting[[mask]]\n",
    "            GRNN_data = GRNN_process(row_data, days_after_planting, x_pred, std)\n",
    "            interval_process_parameter_data = np.append(interval_process_parameter_data, GRNN_data, axis = 0)\n",
    "\n",
    "        if normalization:\n",
    "            interval_process_parameter_data /= np.linalg.norm(interval_process_parameter_data)\n",
    "        interval_process_data = np.append(interval_process_data, interval_process_parameter, axis = 1)\n",
    "\n",
    "    x_train = interval_process_data \n",
    "    y_train = yield_data['Yield']\n",
    "    print(y_train.shape)\n",
    "    print(x_train.shape)\n",
    "    return(x_train, y_train)\n",
    "        "
   ]
  },
  {
   "cell_type": "code",
   "execution_count": null,
   "metadata": {},
   "outputs": [],
   "source": [
    "train_temp, test_temp = tomatoYieldData()"
   ]
  },
  {
   "cell_type": "markdown",
   "metadata": {},
   "source": [
    "# Process"
   ]
  },
  {
   "cell_type": "code",
   "execution_count": 47,
   "metadata": {},
   "outputs": [],
   "source": [
    "def process(parameters):\n",
    "    \n",
    "    x_data, y_data = CottonYieldData()\n",
    "    trainModel(x_data, y_data, x_data.shape[1], parameters)"
   ]
  },
  {
   "cell_type": "markdown",
   "metadata": {},
   "source": [
    "# Test multiple Models"
   ]
  },
  {
   "cell_type": "code",
   "execution_count": 69,
   "metadata": {},
   "outputs": [
    {
     "name": "stdout",
     "output_type": "stream",
     "text": [
      "default train r2 score =  0.7091222500823373 / 1.0\n",
      "default test r2 score =  0.6407040863565219 / 1.0\n",
      "medium train r2 score =  0.7469696210239081 / 1.0\n",
      "medium test r2 score =  0.6970831784100635 / 1.0\n",
      "small train r2 score =  0.7324795851080517 / 1.0\n",
      "small test r2 score =  0.6784338584343808 / 1.0\n",
      "tiny train r2 score =  0.7565462087777579 / 1.0\n",
      "tiny test r2 score =  0.6963549009453776 / 1.0\n"
     ]
    },
    {
     "data": {
      "image/png": "[encoded data removed]",
      "text/plain": [
       "<Figure size 432x288 with 1 Axes>"
      ]
     },
     "metadata": {
      "needs_background": "light"
     },
     "output_type": "display_data"
    }
   ],
   "source": [
    "parameters = {}    \n",
    "#Build Hypterparameter\n",
    "parameters['sizes'] = ['default', 'medium', 'small', 'tiny']\n",
    "parameters['shapes'] = [[64, 10], [64,64], [16, 16], [10]]\n",
    "parameters['drop_out'] = None\n",
    "parameters['regularizer_l1'] = None\n",
    "parameters['regularizer_l2'] = None\n",
    "parameters['kernel_initializer'] = keras.initializers.he_normal(seed=4)\n",
    "parameters['drop_out_rate'] = 0.1\n",
    "#Compile Hyperparameter\n",
    "parameters['optimizer'] = keras.optimizers.RMSprop(0.01)\n",
    "#optimizer = keras.optimizers.RMSprop(0.001)\n",
    "parameters['loss'] = 'mae'\n",
    "#loss = 'mae'\n",
    "parameters['metrics'] = ['mae']\n",
    "\n",
    "#Callback Hyperparameter\n",
    "parameters['monitor'] = 'val_loss'\n",
    "parameters['min_delta'] = 0.005\n",
    "parameters['patience'] = 30\n",
    "parameters['mode'] = 'min'\n",
    "parameters['verbose'] = 0\n",
    "parameters['restore_best_weights'] = True\n",
    "\n",
    "#Train Hyperparameter\n",
    "parameters['epochs'] = 10000\n",
    "parameters['validation_split'] = 0.2\n",
    "\n",
    "\n",
    "process(parameters)"
   ]
  },
  {
   "cell_type": "code",
   "execution_count": 87,
   "metadata": {},
   "outputs": [
    {
     "name": "stdout",
     "output_type": "stream",
     "text": [
      "default train r2 score =  0.7547317302367446 / 1.0\n",
      "default test r2 score =  0.760774378680194 / 1.0\n",
      "medium train r2 score =  0.6868291482311542 / 1.0\n",
      "medium test r2 score =  0.6982536655379159 / 1.0\n",
      "small train r2 score =  0.7036417702009381 / 1.0\n",
      "small test r2 score =  0.7227274866322773 / 1.0\n",
      "tiny train r2 score =  0.6975620854658817 / 1.0\n",
      "tiny test r2 score =  0.7084822903243586 / 1.0\n"
     ]
    },
    {
     "data": {
      "image/png": "[encoded data removed]",
      "text/plain": [
       "<Figure size 432x288 with 1 Axes>"
      ]
     },
     "metadata": {
      "needs_background": "light"
     },
     "output_type": "display_data"
    }
   ],
   "source": [
    "parameters = {}    \n",
    "#Build Hypterparameter\n",
    "parameters['sizes'] = ['default', 'medium', 'small', 'tiny']\n",
    "# parameters['sizes'] = ['default']\n",
    "parameters['shapes'] = [[64, 64, 64], [64,64, 64, 64], [64, 64, 64, 64], [64, 64, 64, 64]]\n",
    "# parameters['shapes'] = [[16,16]]\n",
    "parameters['drop_out'] = True\n",
    "parameters['regularizer_l1'] = None\n",
    "parameters['regularizer_l2'] = None\n",
    "parameters['kernel_initializer'] = 'uniform'\n",
    "parameters['drop_out_rate'] = 0.05\n",
    "\n",
    "#Compile Hyperparameter\n",
    "parameters['optimizer'] = 'adam'\n",
    "#optimizer = keras.optimizers.RMSprop(0.001)\n",
    "parameters['loss'] = 'mse'\n",
    "#loss = 'mae'\n",
    "parameters['metrics'] = ['mse']\n",
    "\n",
    "#Callback Hyperparameter\n",
    "parameters['monitor'] = 'val_loss'\n",
    "parameters['min_delta'] = 0.0001\n",
    "parameters['patience'] = 3000\n",
    "parameters['mode'] = 'min'\n",
    "parameters['verbose'] = 0\n",
    "parameters['restore_best_weights'] = True\n",
    "\n",
    "#Train Hyperparameter\n",
    "parameters['epochs'] = 3000\n",
    "parameters['validation_split'] = 0.2\n",
    "\n",
    "\n",
    "process(parameters)"
   ]
  },
  {
   "cell_type": "markdown",
   "metadata": {},
   "source": [
    "# Test single model"
   ]
  },
  {
   "cell_type": "code",
   "execution_count": 97,
   "metadata": {},
   "outputs": [
    {
     "name": "stdout",
     "output_type": "stream",
     "text": [
      "default train r2 score =  0.8820311551467791 / 1.0\n",
      "default test r2 score =  0.8361135437441527 / 1.0\n"
     ]
    },
    {
     "data": {
      "image/png": "[encoded data removed]",
      "text/plain": [
       "<Figure size 432x288 with 1 Axes>"
      ]
     },
     "metadata": {
      "needs_background": "light"
     },
     "output_type": "display_data"
    }
   ],
   "source": [
    "parameters = {}    \n",
    "#Build Hypterparameter\n",
    "# parameters['sizes'] = ['default', 'medium', 'small', 'tiny']\n",
    "parameters['sizes'] = ['default']\n",
    "parameters['shapes'] = [[64, 64, 64], [64,64, 64, 64], [64, 64, 64, 64], [64, 64, 64, 64]]\n",
    "# parameters['shapes'] = [[16,16]]\n",
    "parameters['drop_out'] = False\n",
    "parameters['regularizer_l1'] = None\n",
    "parameters['regularizer_l2'] = None\n",
    "parameters['kernel_initializer'] = 'uniform'\n",
    "parameters['drop_out_rate'] = 0.04\n",
    "\n",
    "#Compile Hyperparameter\n",
    "parameters['optimizer'] = 'adam'\n",
    "#optimizer = keras.optimizers.RMSprop(0.001)\n",
    "parameters['loss'] = 'mse'\n",
    "#loss = 'mae'\n",
    "parameters['metrics'] = ['mse']\n",
    "\n",
    "#Callback Hyperparameter\n",
    "parameters['monitor'] = 'val_loss'\n",
    "parameters['min_delta'] = 0.0001\n",
    "parameters['patience'] = 3000\n",
    "parameters['mode'] = 'min'\n",
    "parameters['verbose'] = 0\n",
    "parameters['restore_best_weights'] = True\n",
    "\n",
    "#Train Hyperparameter\n",
    "parameters['epochs'] = 6000\n",
    "parameters['validation_split'] = 0.2\n",
    "\n",
    "\n",
    "process(parameters)"
   ]
  },
  {
   "cell_type": "code",
   "execution_count": 75,
   "metadata": {},
   "outputs": [
    {
     "name": "stdout",
     "output_type": "stream",
     "text": [
      "default train r2 score =  0.7522925045334781 / 1.0\n",
      "default test r2 score =  0.7546283568418763 / 1.0\n",
      "medium train r2 score =  0.7617493635084928 / 1.0\n",
      "medium test r2 score =  0.7665235160434528 / 1.0\n",
      "small train r2 score =  0.7375825745935413 / 1.0\n",
      "small test r2 score =  0.7300031639073195 / 1.0\n",
      "tiny train r2 score =  0.6965957428997257 / 1.0\n",
      "tiny test r2 score =  0.731143294131613 / 1.0\n"
     ]
    },
    {
     "data": {
      "image/png": "[encoded data removed]",
      "text/plain": [
       "<Figure size 432x288 with 1 Axes>"
      ]
     },
     "metadata": {
      "needs_background": "light"
     },
     "output_type": "display_data"
    }
   ],
   "source": [
    "parameters = {}    \n",
    "#Build Hypterparameter\n",
    "parameters['sizes'] = ['default', 'medium', 'small', 'tiny']\n",
    "# parameters['sizes'] = ['default']\n",
    "parameters['shapes'] = [[64, 64], [64,64, 64], [48, 48, 4], [10]]\n",
    "# parameters['shapes'] = [[64, 64]]\n",
    "parameters['drop_out'] = True\n",
    "parameters['regularizer_l1'] = None\n",
    "parameters['regularizer_l2'] = None\n",
    "parameters['kernel_initializer'] = 'uniform'\n",
    "parameters['drop_out_rate'] = 0.1\n",
    "\n",
    "#Compile Hyperparameter\n",
    "parameters['optimizer'] = 'adam'\n",
    "#optimizer = keras.optimizers.RMSprop(0.001)\n",
    "parameters['loss'] = 'mse'\n",
    "#loss = 'mae'\n",
    "parameters['metrics'] = ['mse']\n",
    "\n",
    "#Callback Hyperparameter\n",
    "parameters['monitor'] = 'val_loss'\n",
    "parameters['min_delta'] = 0.0001\n",
    "parameters['patience'] = 50\n",
    "parameters['mode'] = 'min'\n",
    "parameters['verbose'] = 0\n",
    "parameters['restore_best_weights'] = True\n",
    "\n",
    "#Train Hyperparameter\n",
    "parameters['epochs'] = 3000\n",
    "parameters['validation_split'] = 0.2\n",
    "\n",
    "\n",
    "process(parameters)"
   ]
  },
  {
   "cell_type": "code",
   "execution_count": 99,
   "metadata": {},
   "outputs": [
    {
     "name": "stdout",
     "output_type": "stream",
     "text": [
      "default train r2 score =  0.7118866537429736 / 1.0\n",
      "default test r2 score =  0.6434699982042893 / 1.0\n"
     ]
    },
    {
     "data": {
      "image/png": "[encoded data removed]",
      "text/plain": [
       "<Figure size 432x288 with 1 Axes>"
      ]
     },
     "metadata": {
      "needs_background": "light"
     },
     "output_type": "display_data"
    }
   ],
   "source": [
    "parameters = {}    \n",
    "#Build Hypterparameter\n",
    "# parameters['sizes'] = ['default', 'medium', 'small', 'tiny']\n",
    "parameters['sizes'] = ['default']\n",
    "# parameters['shapes'] = [[64, 10], [64,64], [16, 16], [10]]\n",
    "parameters['shapes'] = [[64, 64, 64]]\n",
    "parameters['drop_out'] = False\n",
    "parameters['regularizer_l1'] = None\n",
    "parameters['regularizer_l2'] = None\n",
    "parameters['kernel_initializer'] = 'uniform'\n",
    "parameters['drop_out_rate'] = 0.01\n",
    "\n",
    "#Compile Hyperparameter\n",
    "parameters['optimizer'] = 'adam'\n",
    "#optimizer = keras.optimizers.RMSprop(0.001)\n",
    "parameters['loss'] = 'mse'\n",
    "#loss = 'mae'\n",
    "parameters['metrics'] = ['mse']\n",
    "\n",
    "#Callback Hyperparameter\n",
    "parameters['monitor'] = 'val_loss'\n",
    "parameters['min_delta'] = 0.0001\n",
    "parameters['patience'] = 3000\n",
    "parameters['mode'] = 'min'\n",
    "parameters['verbose'] = 0\n",
    "parameters['restore_best_weights'] = True\n",
    "\n",
    "#Train Hyperparameter\n",
    "parameters['epochs'] = 3000\n",
    "parameters['validation_split'] = 0.2\n",
    "\n",
    "\n",
    "process(parameters)"
   ]
  },
  {
   "cell_type": "code",
   "execution_count": null,
   "metadata": {},
   "outputs": [],
   "source": []
  }
 ],
 "metadata": {
  "kernelspec": {
   "display_name": "Python 3",
   "language": "python",
   "name": "python3"
  },
  "language_info": {
   "codemirror_mode": {
    "name": "ipython",
    "version": 3
   },
   "file_extension": ".py",
   "mimetype": "text/x-python",
   "name": "python",
   "nbconvert_exporter": "python",
   "pygments_lexer": "ipython3",
   "version": "3.7.6"
  }
 },
 "nbformat": 4,
 "nbformat_minor": 4
}
